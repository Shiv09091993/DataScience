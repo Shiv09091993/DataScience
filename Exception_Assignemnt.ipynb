{
 "cells": [
  {
   "cell_type": "markdown",
   "id": "b979e984-1455-4e70-b007-b39626bb46bd",
   "metadata": {},
   "source": [
    "An exception is an event, which occurs during the execution of a program that disrupts the normal flow of the program's instructions.can be recoverable under try,exception,finally block.\n",
    "An error is  occurs due to lack of system memory.not recovereable"
   ]
  },
  {
   "cell_type": "code",
   "execution_count": 3,
   "id": "39769cfc-968f-4fe0-a90b-1eab496b8c18",
   "metadata": {},
   "outputs": [
    {
     "name": "stdout",
     "output_type": "stream",
     "text": [
      "[Errno 2] No such file or directory: 'test3.txt'\n"
     ]
    }
   ],
   "source": [
    "# if exception were not handle , the code will terminate without running properly \n",
    "try:\n",
    "    f=open(\"test3.txt\",\"r\")\n",
    "    f.write(\"Here i comes\")\n",
    "    f.close()\n",
    "except Exception as e:\n",
    "    print(e)\n"
   ]
  },
  {
   "cell_type": "markdown",
   "id": "5bbdb827-0556-4a38-8768-6fbf5d8efc86",
   "metadata": {},
   "source": [
    "#python function to catch and handle exception\n",
    "\n",
    "try and els\n",
    "exception\n",
    "finally\n"
   ]
  },
  {
   "cell_type": "code",
   "execution_count": 11,
   "id": "b7feaddc-7a08-4723-bf47-9454d128fd40",
   "metadata": {},
   "outputs": [],
   "source": [
    "#based on the business requiremnt ,if the input exceeds nor not enough we can handle that with cusomt exception\n",
    "\n",
    "#guess the number \n",
    "a=[1,2,3,4,5]\n",
    "\n",
    "\n",
    "\n",
    "class guess_exception(Exception):\n",
    "    \n",
    "    def __init__(self,msg):\n",
    "        self.msg=msg\n",
    "    \n",
    "    \n",
    "    def guess_the_nr(x):\n",
    "        for i in a:\n",
    "            if x == i:\n",
    "                raise guess(\"the number is right\")\n",
    "        else:\n",
    "            raise guess(\"please guess again\")\n",
    "        \n",
    "            \n"
   ]
  },
  {
   "cell_type": "code",
   "execution_count": 13,
   "id": "134c5860-6863-43b4-9258-e6f630bd0d9d",
   "metadata": {},
   "outputs": [
    {
     "name": "stdout",
     "output_type": "stream",
     "text": [
      "the number is right\n",
      "please guess again\n"
     ]
    }
   ],
   "source": [
    "try:\n",
    "    guess_the_nr(1)\n",
    "except  guess_exception as g:\n",
    "    print(g)"
   ]
  },
  {
   "cell_type": "code",
   "execution_count": null,
   "id": "180b3f9e-23b0-437a-b087-1c0fb8b91646",
   "metadata": {},
   "outputs": [],
   "source": []
  }
 ],
 "metadata": {
  "kernelspec": {
   "display_name": "Python 3 (ipykernel)",
   "language": "python",
   "name": "python3"
  },
  "language_info": {
   "codemirror_mode": {
    "name": "ipython",
    "version": 3
   },
   "file_extension": ".py",
   "mimetype": "text/x-python",
   "name": "python",
   "nbconvert_exporter": "python",
   "pygments_lexer": "ipython3",
   "version": "3.10.8"
  }
 },
 "nbformat": 4,
 "nbformat_minor": 5
}
