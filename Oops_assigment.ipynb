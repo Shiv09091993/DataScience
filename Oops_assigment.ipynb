{
 "cells": [
  {
   "cell_type": "markdown",
   "id": "b53772fd-5d30-4aa8-837e-43e6c5609913",
   "metadata": {},
   "source": [
    "#Create a vehicle class with an init method having instance variables as name_of_vehicle, max_speed\n",
    "and average_of_vehicle."
   ]
  },
  {
   "cell_type": "code",
   "execution_count": 7,
   "id": "47d86cd9-0820-434f-a60a-65d5abb72a83",
   "metadata": {},
   "outputs": [],
   "source": [
    "class vehicle():\n",
    "    \n",
    "    def __init__(self,name_of_vehicle,max_speed,avg_of_vehicle):\n",
    "        \n",
    "        self.name_of_vehicle=name_of_vehicle\n",
    "        self.max_speed=max_speed\n",
    "        self.avg_of_vehicle=avg_of_vehicle\n",
    "        \n",
    "    def test_veh(self):\n",
    "        \n",
    "        return self.name_of_vehicle, self.max_speed,self.avg_of_vehicle"
   ]
  },
  {
   "cell_type": "code",
   "execution_count": 8,
   "id": "d92e9887-0e9d-40e8-9178-61a3645247eb",
   "metadata": {},
   "outputs": [],
   "source": [
    "a=vehicle(\"ford\",\"150\",\"80\")"
   ]
  },
  {
   "cell_type": "code",
   "execution_count": 9,
   "id": "3a32d9e6-832e-4d29-aae8-fc1bf00bb999",
   "metadata": {},
   "outputs": [
    {
     "data": {
      "text/plain": [
       "('ford', '150', '80')"
      ]
     },
     "execution_count": 9,
     "metadata": {},
     "output_type": "execute_result"
    }
   ],
   "source": [
    "a.test_veh()"
   ]
  },
  {
   "cell_type": "code",
   "execution_count": 11,
   "id": "94c5604f-3057-4c39-bb51-d3f7c50cd421",
   "metadata": {},
   "outputs": [
    {
     "data": {
      "text/plain": [
       "'80'"
      ]
     },
     "execution_count": 11,
     "metadata": {},
     "output_type": "execute_result"
    }
   ],
   "source": [
    "a.avg_of_vehicle"
   ]
  },
  {
   "cell_type": "code",
   "execution_count": 12,
   "id": "addbcf5b-e002-4836-879b-91edf844688c",
   "metadata": {},
   "outputs": [
    {
     "data": {
      "text/plain": [
       "'150'"
      ]
     },
     "execution_count": 12,
     "metadata": {},
     "output_type": "execute_result"
    }
   ],
   "source": [
    "a.max_speed"
   ]
  },
  {
   "cell_type": "code",
   "execution_count": 13,
   "id": "78d8a055-d8ec-4fb3-8319-c305d50c7d09",
   "metadata": {},
   "outputs": [
    {
     "data": {
      "text/plain": [
       "'ford'"
      ]
     },
     "execution_count": 13,
     "metadata": {},
     "output_type": "execute_result"
    }
   ],
   "source": [
    "a.name_of_vehicle"
   ]
  },
  {
   "cell_type": "markdown",
   "id": "29c9d306-1512-487b-9f8b-2d6ae1523501",
   "metadata": {},
   "source": [
    "Q2. Create a child class car from the vehicle class created in Que 1, which will inherit the vehicle class.\n",
    "Create a method named seating_capacity which takes capacity as an argument and returns the name of\n",
    "the vehicle and its seating capacity."
   ]
  },
  {
   "cell_type": "code",
   "execution_count": 45,
   "id": "2eb0bdbf-c93d-48e1-b3eb-930d857fb379",
   "metadata": {},
   "outputs": [],
   "source": [
    "class vehicle():\n",
    "    \n",
    "    def __init__(self):\n",
    "        \n",
    "        self.name_of_veh=\"ford\"\n",
    "        \n",
    "class car(vehicle):\n",
    "    \n",
    "    def seating_capacity(self,capacity):\n",
    "        \n",
    "        self.capacity=capacity\n",
    "        \n",
    "        "
   ]
  },
  {
   "cell_type": "code",
   "execution_count": 46,
   "id": "855ee572-8008-4825-9aed-3737625b7a93",
   "metadata": {},
   "outputs": [],
   "source": [
    "c=car()"
   ]
  },
  {
   "cell_type": "code",
   "execution_count": 47,
   "id": "1bb29ba1-d2b8-4095-9a18-607224379188",
   "metadata": {},
   "outputs": [],
   "source": [
    "c.seating_capacity(\"8\")"
   ]
  },
  {
   "cell_type": "code",
   "execution_count": 48,
   "id": "1ef3eece-ee68-4bc7-b380-84cc20bda8fa",
   "metadata": {},
   "outputs": [
    {
     "data": {
      "text/plain": [
       "'8'"
      ]
     },
     "execution_count": 48,
     "metadata": {},
     "output_type": "execute_result"
    }
   ],
   "source": [
    "c.capacity"
   ]
  },
  {
   "cell_type": "code",
   "execution_count": 49,
   "id": "587991be-16dd-459a-bccd-aa0af05b8d6e",
   "metadata": {},
   "outputs": [
    {
     "data": {
      "text/plain": [
       "'ford'"
      ]
     },
     "execution_count": 49,
     "metadata": {},
     "output_type": "execute_result"
    }
   ],
   "source": [
    "c.name_of_veh"
   ]
  },
  {
   "cell_type": "markdown",
   "id": "3cbca152-6f83-4a0c-b988-1221551f4a43",
   "metadata": {},
   "source": [
    "q3.What is multiple inheritance? Write a python code to demonstrate multiple inheritance."
   ]
  },
  {
   "cell_type": "code",
   "execution_count": 65,
   "id": "19182a5b-4709-4d0b-a153-521564ffe1b1",
   "metadata": {},
   "outputs": [],
   "source": [
    "class c1():\n",
    "    \n",
    "    def test_c1(self):\n",
    "        \n",
    "        print(\"hi !,I am from class1\")\n",
    "class c2():\n",
    "    \n",
    "    def test_c2(self):\n",
    "        \n",
    "        print(\"hi !,I am from class2\")\n",
    "        \n",
    "        \n",
    "class c3(c1,c2):\n",
    "    \n",
    "    def test_c3(self):\n",
    "        \n",
    "        print(\"hi !,I am from class3\")\n",
    "       "
   ]
  },
  {
   "cell_type": "code",
   "execution_count": 66,
   "id": "c458d98d-5109-444e-a9d0-5fb84b669fac",
   "metadata": {},
   "outputs": [],
   "source": [
    "x=c3()"
   ]
  },
  {
   "cell_type": "code",
   "execution_count": 67,
   "id": "dc5b27be-587a-4ee8-ae2d-f1d03b5fa755",
   "metadata": {},
   "outputs": [
    {
     "name": "stdout",
     "output_type": "stream",
     "text": [
      "hi !,I am from class1\n"
     ]
    }
   ],
   "source": [
    "x.test_c1()"
   ]
  },
  {
   "cell_type": "code",
   "execution_count": 68,
   "id": "a5dd0a59-0d3b-4cdf-a405-38521da637b4",
   "metadata": {},
   "outputs": [
    {
     "name": "stdout",
     "output_type": "stream",
     "text": [
      "hi !,I am from class2\n"
     ]
    }
   ],
   "source": [
    "x.test_c2()"
   ]
  },
  {
   "cell_type": "code",
   "execution_count": 69,
   "id": "65af46ee-e829-4fe2-a793-b6debc32974f",
   "metadata": {},
   "outputs": [
    {
     "name": "stdout",
     "output_type": "stream",
     "text": [
      "hi !,I am from class3\n"
     ]
    }
   ],
   "source": [
    "x.test_c3()"
   ]
  },
  {
   "cell_type": "markdown",
   "id": "ee3422c9-91c3-4b46-aaa9-7bf81179b591",
   "metadata": {},
   "source": [
    "Q4. What are getter and setter in python? Create a class and create a getter and a setter method in this\n",
    "class."
   ]
  },
  {
   "cell_type": "code",
   "execution_count": 82,
   "id": "5fe78a71-b9f5-4084-8dd4-ba28eadd5278",
   "metadata": {},
   "outputs": [],
   "source": [
    "class cloud():\n",
    "    \n",
    "    def __init__(self):\n",
    "        \n",
    "        self.a=\"a is the First Char\"\n",
    "        self.b=b\n",
    "        \n",
    "    def setter(self,b):\n",
    "        self.b=b\n",
    "        \n",
    "        return self.b\n",
    "        \n",
    "    def getter(self):\n",
    "        \n",
    "        return self.a\n",
    "        \n",
    "        "
   ]
  },
  {
   "cell_type": "code",
   "execution_count": 84,
   "id": "3975b333-2a6f-4b6f-b54b-33a01966f370",
   "metadata": {},
   "outputs": [],
   "source": [
    "z=cloud()"
   ]
  },
  {
   "cell_type": "code",
   "execution_count": 85,
   "id": "b85a6370-2962-4537-ab3e-592010eaac9f",
   "metadata": {},
   "outputs": [
    {
     "data": {
      "text/plain": [
       "'a is the First Char'"
      ]
     },
     "execution_count": 85,
     "metadata": {},
     "output_type": "execute_result"
    }
   ],
   "source": [
    "z.getter()"
   ]
  },
  {
   "cell_type": "code",
   "execution_count": 86,
   "id": "ae8cdcd3-cdaf-4cfd-bd3b-d947ee14de25",
   "metadata": {},
   "outputs": [
    {
     "data": {
      "text/plain": [
       "'b is the Second Char'"
      ]
     },
     "execution_count": 86,
     "metadata": {},
     "output_type": "execute_result"
    }
   ],
   "source": [
    "z.setter(\"b is the Second Char\")"
   ]
  },
  {
   "cell_type": "markdown",
   "id": "3dffb70f-bbf8-4273-b48b-fe841740a69a",
   "metadata": {},
   "source": [
    "Q5.What is method overriding in python? Write a python code to demonstrate method overriding."
   ]
  },
  {
   "cell_type": "code",
   "execution_count": 87,
   "id": "9657ab16-a685-43b1-a7db-36e41100a7ed",
   "metadata": {},
   "outputs": [],
   "source": [
    "class computer():\n",
    "    \n",
    "    def __init__(self):\n",
    "        \n",
    "        self.__ram=\"2GB\"\n",
    "        \n",
    "    def overwrite(self,ram):\n",
    "        \n",
    "        self.__ram=ram\n",
    "        \n",
    "        return self.__ram"
   ]
  },
  {
   "cell_type": "code",
   "execution_count": 88,
   "id": "e6edd546-8ff1-46b5-9d27-ac3a331029b9",
   "metadata": {},
   "outputs": [],
   "source": [
    "q=computer()"
   ]
  },
  {
   "cell_type": "code",
   "execution_count": 90,
   "id": "aa963cf4-2720-4d6d-89d2-8eb644a462e9",
   "metadata": {},
   "outputs": [
    {
     "data": {
      "text/plain": [
       "'2GB'"
      ]
     },
     "execution_count": 90,
     "metadata": {},
     "output_type": "execute_result"
    }
   ],
   "source": [
    "q._computer__ram"
   ]
  },
  {
   "cell_type": "code",
   "execution_count": 91,
   "id": "1fd63912-4c17-43a5-bf97-d53afe1b8be3",
   "metadata": {},
   "outputs": [
    {
     "data": {
      "text/plain": [
       "'1TB'"
      ]
     },
     "execution_count": 91,
     "metadata": {},
     "output_type": "execute_result"
    }
   ],
   "source": [
    "q.overwrite(\"1TB\")"
   ]
  },
  {
   "cell_type": "code",
   "execution_count": 92,
   "id": "d872c7e5-a9b3-44cb-be4e-a7b11aad821a",
   "metadata": {},
   "outputs": [
    {
     "data": {
      "text/plain": [
       "'1TB'"
      ]
     },
     "execution_count": 92,
     "metadata": {},
     "output_type": "execute_result"
    }
   ],
   "source": [
    "q._computer__ram"
   ]
  },
  {
   "cell_type": "code",
   "execution_count": null,
   "id": "4f5ed657-6b1e-4f08-84c3-4cd1935d16d3",
   "metadata": {},
   "outputs": [],
   "source": []
  }
 ],
 "metadata": {
  "kernelspec": {
   "display_name": "Python 3 (ipykernel)",
   "language": "python",
   "name": "python3"
  },
  "language_info": {
   "codemirror_mode": {
    "name": "ipython",
    "version": 3
   },
   "file_extension": ".py",
   "mimetype": "text/x-python",
   "name": "python",
   "nbconvert_exporter": "python",
   "pygments_lexer": "ipython3",
   "version": "3.10.8"
  }
 },
 "nbformat": 4,
 "nbformat_minor": 5
}
